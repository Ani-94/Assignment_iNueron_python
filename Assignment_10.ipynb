{
 "cells": [
  {
   "cell_type": "code",
   "execution_count": null,
   "id": "6ad70514",
   "metadata": {},
   "outputs": [],
   "source": [
    "1. How do you distinguish between shutil.copy() and shutil.copytree()?\n",
    "Answer:\n",
    "shutil.copy(): Will copy the single specified file\n",
    "shutil.copytree() : Will copy the complete folder with its sub folder\n",
    "    \n",
    "    \n",
    "2. What function is used to rename files??\n",
    "Answer:\n",
    "rename() function of OS module\n",
    "\n",
    "\n",
    "3. What is the difference between the delete functions in the send2trash and shutil modules?\n",
    "Answer:\n",
    "shutil.rmtree(): deletes the entire directory and the path mentioned should point the directory\n",
    "send2trash.send2trash(): deletes the file in the path mentioned\n",
    "    \n",
    "    \n",
    "4.ZipFile objects have a close() method just like File objects’ close() method. What ZipFile method is equivalent\n",
    "to File objects’ open() method?\n",
    "Answer:\n",
    "zipfile.ZipFile()\n",
    "\n",
    "\n",
    "5. Create a programme that searches a folder tree for files with a certain file extension (such as .pdf or .jpg). \n",
    "Copy these files from whatever location they are in to a new folder.\n",
    "Answer:\n",
    "\n",
    "import os, shutil\n",
    "folder = os.path.abspath()\n",
    "destFolder = os.path.abspath()\n",
    "\n",
    "extensions = ['.pdf', '.jpg']\n",
    "\n",
    "folder = 'randomFolder'\n",
    "\n",
    "destFolder = 'selectiveFolder'\n",
    "\n",
    "for foldername, subfolders, filenames in os.walk(folder):\n",
    "    \n",
    "    for filename in filenames:\n",
    "        name, extension = os.path.splitext(filename)\n",
    "        if extension in extensions:\n",
    "\n",
    "            fileAbsPath = foldername + os.path.sep + filename\n",
    "\n",
    "            print('Coping', fileAbsPath, 'to', destFolder)\n",
    "\n",
    "            shutil.copy(fileAbsPath, destFolder)"
   ]
  }
 ],
 "metadata": {
  "kernelspec": {
   "display_name": "Python 3",
   "language": "python",
   "name": "python3"
  },
  "language_info": {
   "codemirror_mode": {
    "name": "ipython",
    "version": 3
   },
   "file_extension": ".py",
   "mimetype": "text/x-python",
   "name": "python",
   "nbconvert_exporter": "python",
   "pygments_lexer": "ipython3",
   "version": "3.8.8"
  }
 },
 "nbformat": 4,
 "nbformat_minor": 5
}
