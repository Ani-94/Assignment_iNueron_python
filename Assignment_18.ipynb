{
 "cells": [
  {
   "cell_type": "code",
   "execution_count": 9,
   "id": "c9960f72",
   "metadata": {},
   "outputs": [],
   "source": [
    "#1. Create a zoo.py file first. Define the hours() function, which prints the string 'Open 9-5 daily'. \n",
    "#Then, use the interactive interpreter to import the zoo module and call its hours() function.\n",
    "import os\n",
    "def hours():\n",
    "\tprint('Open 9-5 daily')"
   ]
  },
  {
   "cell_type": "code",
   "execution_count": null,
   "id": "4d6a3236",
   "metadata": {},
   "outputs": [],
   "source": [
    "#2. In the interactive interpreter, import the zoo module as menagerie and call its hours() function.\n",
    "#3. Using the interpreter, explicitly import and call the hours() function from zoo.\n",
    "#4. Import the hours() function as info and call it."
   ]
  },
  {
   "cell_type": "code",
   "execution_count": 4,
   "id": "2c515c8d",
   "metadata": {
    "scrolled": true
   },
   "outputs": [
    {
     "name": "stdout",
     "output_type": "stream",
     "text": [
      "{'a': 1, 'b': 2, 'c': 3}\n"
     ]
    }
   ],
   "source": [
    "#5. Create a plain dictionary with the key-value pairs 'a': 1, 'b': 2, and 'c': 3, and print it out.\n",
    "D = {'a': 1, 'b': 2, 'c': 3}\n",
    "print(D)\n"
   ]
  },
  {
   "cell_type": "code",
   "execution_count": 8,
   "id": "fbc88f2c",
   "metadata": {},
   "outputs": [
    {
     "name": "stdout",
     "output_type": "stream",
     "text": [
      "{'a': 1, 'b': 2, 'c': 3}\n"
     ]
    }
   ],
   "source": [
    "#6.Make an OrderedDict called fancy from the same pairs listed in 5 and print it. Did it print in the same order as plain?\n",
    "from collections import OrderedDict\n",
    "fancy = OrderedDict()\n",
    "fancy = D\n",
    "print(fancy)"
   ]
  },
  {
   "cell_type": "code",
   "execution_count": 8,
   "id": "4159a6d8",
   "metadata": {},
   "outputs": [
    {
     "name": "stdout",
     "output_type": "stream",
     "text": [
      "['a', 'e']\n",
      "{'a': ['a', 'e']}\n",
      "None\n",
      "{'a': 'something for a'}\n"
     ]
    }
   ],
   "source": [
    "#7. Make a default dictionary called dict_of_lists and pass it the argument list.\n",
    "#Make the list dict_of_lists['a'] and append the value 'something for a' to it in one assignment. Print dict_of_lists['a'].\n",
    "l = ['a','e']\n",
    "print(l)\n",
    "\n",
    "s =  'something for a'\n",
    "dict_of_lists = {'a': l}\n",
    "print(dict_of_lists)\n",
    "\n",
    "#dict_of_lists[value.append(something for a')]\n",
    "\n",
    "d = l.extend(s) \n",
    "print(d)\n",
    "dict_of_lists['a'] = 'something for a'\n",
    "print(dict_of_lists)\n"
   ]
  },
  {
   "cell_type": "code",
   "execution_count": null,
   "id": "387bb1c5",
   "metadata": {},
   "outputs": [],
   "source": []
  }
 ],
 "metadata": {
  "kernelspec": {
   "display_name": "Python 3",
   "language": "python",
   "name": "python3"
  },
  "language_info": {
   "codemirror_mode": {
    "name": "ipython",
    "version": 3
   },
   "file_extension": ".py",
   "mimetype": "text/x-python",
   "name": "python",
   "nbconvert_exporter": "python",
   "pygments_lexer": "ipython3",
   "version": "3.8.8"
  }
 },
 "nbformat": 4,
 "nbformat_minor": 5
}
