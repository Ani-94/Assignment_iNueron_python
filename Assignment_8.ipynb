{
 "cells": [
  {
   "cell_type": "code",
   "execution_count": null,
   "id": "1061a2d2",
   "metadata": {},
   "outputs": [],
   "source": [
    "1. Is the Python Standard Library included with PyInputPlus?\n",
    "Answer:\n",
    "It will not be available and hence has to be installed\n",
    "\n",
    "2. Why is PyInputPlus commonly imported with import pyinputplus as pypi?\n",
    "Answer:\n",
    "For ease of calling the function\n",
    "\n",
    "3. How do you distinguish between inputInt() and inputFloat()?\n",
    "Answer:\n",
    "InputInt() always takes an integer and returns an int type\n",
    "InputFloat() always takes a floating number and returns a float type\n",
    "\n",
    "4. Using PyInputPlus, how do you ensure that the user enters a whole number between 0 and 99?\n",
    "Answer:\n",
    "Using inputInt()\n",
    "\n",
    "5. What is transferred to the keyword arguments allowRegexes and blockRegexes?\n",
    "Answer:\n",
    "list of regular expression strings\n",
    "\n",
    "6. If a blank input is entered three times, what does inputStr(limit=3) do?\n",
    "Answer:\n",
    "Returns a retry limit exception\n",
    "\n",
    "7. If blank input is entered three times, what does inputStr(limit=3, default='hello') do?\n",
    "Answer:\n",
    "Returns the statement 'hello'"
   ]
  }
 ],
 "metadata": {
  "kernelspec": {
   "display_name": "Python 3",
   "language": "python",
   "name": "python3"
  },
  "language_info": {
   "codemirror_mode": {
    "name": "ipython",
    "version": 3
   },
   "file_extension": ".py",
   "mimetype": "text/x-python",
   "name": "python",
   "nbconvert_exporter": "python",
   "pygments_lexer": "ipython3",
   "version": "3.8.8"
  }
 },
 "nbformat": 4,
 "nbformat_minor": 5
}
