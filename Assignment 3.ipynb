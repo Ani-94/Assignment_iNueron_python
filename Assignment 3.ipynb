{
 "cells": [
  {
   "cell_type": "code",
   "execution_count": 2,
   "id": "7f87af2a",
   "metadata": {},
   "outputs": [
    {
     "data": {
      "text/plain": [
       "False"
      ]
     },
     "execution_count": 2,
     "metadata": {},
     "output_type": "execute_result"
    }
   ],
   "source": [
    "1. Why are functions advantageous to have in your programs?\n",
    "\n",
    "Answer:\n",
    "Specific part of program that needs to be used in various parts of the program can be developed as a  function that can be called wherever needed, thus avoiding the need of re-writing the code\n",
    "\n",
    "\n",
    "2. When does the code in a function run: when it's specified or when it's called?\n",
    "\n",
    "Answer:    \n",
    "When its called\n",
    "\n",
    "\n",
    "3. What statement creates a function?\n",
    "Answer:\n",
    "def\n",
    "\n",
    "\n",
    "4. What is the difference between a function and a function call?\n",
    "\n",
    "Answer:\n",
    "Function is a set codes that needs to be used again and again while function call is using this function to execute the codes where ever applicable\n",
    "\n",
    "\n",
    "5. How many global scopes are there in a Python program? How many local scopes?\n",
    "\n",
    "Answer:\n",
    "There can be only one global scope per program and at least 4 local scopes in python\n",
    "\n",
    "\n",
    "6. What happens to variables in a local scope when the function call returns?\n",
    "\n",
    "Answer:\n",
    "The results stored  in the local variable keeps updating every time the function is called \n",
    "\n",
    "\n",
    "7. What is the concept of a return value? Is it possible to have a return value in an expression?\n",
    "\n",
    "Answer:\n",
    "The return function terminates the present program that is being executed and sends the result back to the main program for further execution\n",
    "The function is defined as an object and can be called in an expression\n",
    "\n",
    "\n",
    "8. If a function does not have a return statement, what is the return value of a call to that function?\n",
    "\n",
    "Answer:\n",
    "None type\n",
    "\n",
    "\n",
    "9. How do you make a function variable refer to the global variable?\n",
    "\n",
    "Answer:\n",
    "By using the global keyword for example if x is the required variable then it should be typed as follows in the function\n",
    "global x\n",
    "\n",
    "\n",
    "10. What is the data type of None?\n",
    "\n",
    "Answer:\n",
    "None type\n",
    "\n",
    "11. What does the sentence import areallyourpetsnamederic do?\n",
    "\n",
    "Answer:\n",
    "The keyword import imports the specified library to use, but areallyourpetsnamederic is not a pre-defined function \n",
    "hence the code shows an error instead.\n",
    "\n",
    "12. If you had a bacon() feature in a spam module, what would you call it after importing spam?\n",
    "\n",
    "Answer:\n",
    "Function\n",
    "\n",
    "\n",
    "13. What can you do to save a programme from crashing if it encounters an error?\n",
    "\n",
    "Answer:\n",
    "Use try and exception where in the try block the code is executed, when the code fails the exception block is executed which ensures that rest of the code is executed without having to stop for the error in the try block\n",
    "\n",
    "14. What is the purpose of the try clause? What is the purpose of the except clause?\n",
    "\n",
    "Answer:\n",
    "Try clause: Executes the main code that is stored in try block\n",
    "Except clause: if there are any errors in the try clause, the control shifts to except clause where after execution of except clause the code runs without any interferences from faulty code\n"
   ]
  },
  {
   "cell_type": "code",
   "execution_count": null,
   "id": "24457960",
   "metadata": {},
   "outputs": [],
   "source": []
  }
 ],
 "metadata": {
  "kernelspec": {
   "display_name": "Python 3",
   "language": "python",
   "name": "python3"
  },
  "language_info": {
   "codemirror_mode": {
    "name": "ipython",
    "version": 3
   },
   "file_extension": ".py",
   "mimetype": "text/x-python",
   "name": "python",
   "nbconvert_exporter": "python",
   "pygments_lexer": "ipython3",
   "version": "3.8.8"
  }
 },
 "nbformat": 4,
 "nbformat_minor": 5
}
