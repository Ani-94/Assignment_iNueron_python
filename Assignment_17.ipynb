{
 "cells": [
  {
   "cell_type": "code",
   "execution_count": 6,
   "id": "c462c25d",
   "metadata": {},
   "outputs": [
    {
     "name": "stdout",
     "output_type": "stream",
     "text": [
      "6\n",
      "too low\n"
     ]
    }
   ],
   "source": [
    "#1. Assign the value 7 to the variable guess_me. Then, write the conditional tests (if, else, and elif) to print the string 'too low' if guess_me is less than 7, 'too high' if greater than 7, and 'just right' if equal to 7.\n",
    "#Answer:\n",
    "guess_me = 7\n",
    "guess_ans = int(input())\n",
    "if guess_ans < guess_me:\n",
    "    print(\"too low\")\n",
    "elif guess_ans > guess_me:\n",
    "    print(\"too high\")\n",
    "else:\n",
    "    print(\"just right\")\n"
   ]
  },
  {
   "cell_type": "code",
   "execution_count": 8,
   "id": "763fe2df",
   "metadata": {},
   "outputs": [
    {
     "name": "stdout",
     "output_type": "stream",
     "text": [
      "too low\n",
      "too low\n",
      "too low\n",
      "too low\n",
      "too low\n",
      "too low\n",
      "found it!\n"
     ]
    }
   ],
   "source": [
    "#2. Assign the value 7 to the variable guess_me and the value 1 to the variable start. Write a while loop that compares start with guess_me. Print too low if start is less than guess me. If start equals guess_me, print 'found it!' and exit the loop. If start is greater than guess_me, print 'oops' and exit the loop. Increment start at the end of the loop.\n",
    "#Answer:\n",
    "guess_me = 7\n",
    "start = 1\n",
    "while start<= guess_me:\n",
    "\tif start< guess_me:\n",
    "\t\tprint(\"too low\")\n",
    "\telif start == guess_me:\n",
    "\t\tprint(\"found it!\")\n",
    "\telse:\n",
    "\t\tprint(\"oops\")\n",
    "\tstart+=1\n",
    "\n"
   ]
  },
  {
   "cell_type": "code",
   "execution_count": 10,
   "id": "c0159330",
   "metadata": {},
   "outputs": [
    {
     "name": "stdout",
     "output_type": "stream",
     "text": [
      "3\n",
      "2\n",
      "1\n",
      "0\n"
     ]
    }
   ],
   "source": [
    "#3. Print the following values of the list [3, 2, 1, 0] using a for loop.\n",
    "I = [3, 2, 1, 0]\n",
    "for i in I:\n",
    "\tprint(i)\n"
   ]
  },
  {
   "cell_type": "code",
   "execution_count": 13,
   "id": "c09b829e",
   "metadata": {},
   "outputs": [
    {
     "name": "stdout",
     "output_type": "stream",
     "text": [
      "[0, 2, 4, 6, 8]\n"
     ]
    }
   ],
   "source": [
    "#4. Use a list comprehension to make a list of the even numbers in range(10)\n",
    "l =[]\n",
    "for i in range(10):\n",
    "\tif i%2==0:\n",
    "\t\tl.append(i)\t\n",
    "print(l)\n"
   ]
  },
  {
   "cell_type": "code",
   "execution_count": 17,
   "id": "59530a64",
   "metadata": {},
   "outputs": [
    {
     "name": "stdout",
     "output_type": "stream",
     "text": [
      "{0: 0, 1: 1, 2: 4, 3: 9, 4: 16, 5: 25, 6: 36, 7: 49, 8: 64, 9: 81}\n"
     ]
    }
   ],
   "source": [
    "#5. Use a dictionary comprehension to create the dictionary squares. Use range(10) to return the keys, and use the square of each key as its value.\n",
    "Square = {}\n",
    "for i in range(10):\n",
    "\tSquare[i] = i**2\n",
    "print(Square)\n"
   ]
  },
  {
   "cell_type": "code",
   "execution_count": 20,
   "id": "c3a26607",
   "metadata": {},
   "outputs": [
    {
     "name": "stdout",
     "output_type": "stream",
     "text": [
      "[1, 3, 5, 7, 9]\n"
     ]
    }
   ],
   "source": [
    "#6. Construct the set odd from the odd numbers in the range using a set comprehension (10).\n",
    "l =[]\n",
    "for i in range(10):\n",
    "\tif i%2!=0:\n",
    "\t\tl.append(i)\t\t\n",
    "print(l)"
   ]
  },
  {
   "cell_type": "code",
   "execution_count": 21,
   "id": "d8025834",
   "metadata": {},
   "outputs": [
    {
     "name": "stdout",
     "output_type": "stream",
     "text": [
      "Got 0\n",
      "Got 1\n",
      "Got 2\n",
      "Got 3\n",
      "Got 4\n",
      "Got 5\n",
      "Got 6\n",
      "Got 7\n",
      "Got 8\n",
      "Got 9\n"
     ]
    }
   ],
   "source": [
    "#7. Use a generator comprehension to return the string 'Got ' and a number for the numbers in range(10). Iterate through this by using a for loop.\n",
    "for i in range(10):\n",
    "\tprint(\"Got\",i)\n"
   ]
  },
  {
   "cell_type": "code",
   "execution_count": 23,
   "id": "6287dc8b",
   "metadata": {},
   "outputs": [
    {
     "data": {
      "text/plain": [
       "['Harry', 'Ron', 'Hermione']"
      ]
     },
     "execution_count": 23,
     "metadata": {},
     "output_type": "execute_result"
    }
   ],
   "source": [
    "#8. Define a function called good that returns the list ['Harry', 'Ron', 'Hermione'].\n",
    "def good():\n",
    "\tl = ['Harry', 'Ron', 'Hermione']\n",
    "\treturn l\n",
    "\n",
    "\n",
    "good()"
   ]
  },
  {
   "cell_type": "code",
   "execution_count": null,
   "id": "061dddb6",
   "metadata": {},
   "outputs": [],
   "source": [
    "9. Define a generator function called get_odds that returns the odd numbers from range(10). Use a for loop to find and print the third value returned.\n",
    "l=[]\n",
    "For in range(10):\n",
    "\tif i%2 != 0:\n",
    "\t\tl.append(i)\n",
    "for i in l:\n",
    "\tif index(i)%3 ==0:\n",
    "\t\treturn(i)\t"
   ]
  },
  {
   "cell_type": "code",
   "execution_count": 33,
   "id": "4058a08a",
   "metadata": {},
   "outputs": [
    {
     "name": "stdout",
     "output_type": "stream",
     "text": [
      "89\n"
     ]
    },
    {
     "ename": "OopsException",
     "evalue": "",
     "output_type": "error",
     "traceback": [
      "\u001b[1;31m---------------------------------------------------------------------------\u001b[0m",
      "\u001b[1;31mOopsException\u001b[0m                             Traceback (most recent call last)",
      "\u001b[1;32m<ipython-input-33-0e5829c9b1f7>\u001b[0m in \u001b[0;36m<module>\u001b[1;34m\u001b[0m\n\u001b[0;32m      8\u001b[0m \u001b[1;33m\u001b[0m\u001b[0m\n\u001b[0;32m      9\u001b[0m \u001b[1;32mif\u001b[0m \u001b[0mi\u001b[0m\u001b[1;33m>\u001b[0m\u001b[1;36m5\u001b[0m\u001b[1;33m:\u001b[0m\u001b[1;33m\u001b[0m\u001b[1;33m\u001b[0m\u001b[0m\n\u001b[1;32m---> 10\u001b[1;33m     \u001b[1;32mraise\u001b[0m \u001b[0mOopsException\u001b[0m\u001b[1;33m\u001b[0m\u001b[1;33m\u001b[0m\u001b[0m\n\u001b[0m",
      "\u001b[1;31mOopsException\u001b[0m: "
     ]
    }
   ],
   "source": [
    "#10. Define an exception called OopsException. Raise this exception to see what happens.\n",
    "#Then write the code to catch this exception and print 'Caught an oops'.\n",
    "class OopsException(Exception):\n",
    "    \"\"\"Returns as exception\"\"\"\n",
    "    \n",
    "i = int(input())\n",
    "e = 5\n",
    "\n",
    "if i>5:\n",
    "    raise OopsException\n"
   ]
  },
  {
   "cell_type": "code",
   "execution_count": 35,
   "id": "9b63d4f2",
   "metadata": {},
   "outputs": [
    {
     "name": "stdout",
     "output_type": "stream",
     "text": [
      "89\n",
      "Caught an OOps\n"
     ]
    }
   ],
   "source": [
    "#10. Define an exception called OopsException. Raise this exception to see what happens.\n",
    "#Then write the code to catch this exception and print 'Caught an oops'.\n",
    "class OopsException(Exception):\n",
    "    \"\"\"Returns as exception\"\"\"\n",
    "    \n",
    "i = int(input())\n",
    "e = 5\n",
    "try:\n",
    "    if i>5:\n",
    "        raise OopsException\n",
    "except OopsException:\n",
    "    print(\"Caught an OOps\")"
   ]
  },
  {
   "cell_type": "code",
   "execution_count": 41,
   "id": "19f65fa3",
   "metadata": {},
   "outputs": [
    {
     "name": "stdout",
     "output_type": "stream",
     "text": [
      "{('Creature of Habit', 'A nun turns into a monster'), ('Crewel Fate', 'A haunted yarn shop')}\n"
     ]
    }
   ],
   "source": [
    "#11. Use zip() to make a dictionary called movies that pairs these lists: titles = ['Creature of Habit', 'Crewel Fate']\n",
    "#and plots = ['A nun turns into a monster', 'A haunted yarn shop']\n",
    "#movies = zip(titles,plots)\n",
    "\n",
    "titles = ['Creature of Habit', 'Crewel Fate']\n",
    "plots = ['A nun turns into a monster', 'A haunted yarn shop']\n",
    "movies = zip(titles,plots)\n",
    "print(set(movies))"
   ]
  }
 ],
 "metadata": {
  "kernelspec": {
   "display_name": "Python 3",
   "language": "python",
   "name": "python3"
  },
  "language_info": {
   "codemirror_mode": {
    "name": "ipython",
    "version": 3
   },
   "file_extension": ".py",
   "mimetype": "text/x-python",
   "name": "python",
   "nbconvert_exporter": "python",
   "pygments_lexer": "ipython3",
   "version": "3.8.8"
  }
 },
 "nbformat": 4,
 "nbformat_minor": 5
}
