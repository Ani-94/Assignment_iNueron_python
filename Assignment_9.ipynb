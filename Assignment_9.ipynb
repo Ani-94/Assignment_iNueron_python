{
 "cells": [
  {
   "cell_type": "code",
   "execution_count": null,
   "id": "88bb4341",
   "metadata": {},
   "outputs": [],
   "source": [
    "1. To what does a relative path refer?\n",
    "Answer:\n",
    "It refers to the given path of a current directory of main directory\n",
    "\n",
    "2. What does an absolute path start with your operating system?\n",
    "Answer:\n",
    "It shows the path by which the given file can be accessed from the root\n",
    "\n",
    "3. What do the functions os.getcwd() and os.chdir() do?\n",
    "Answer:\n",
    "os.getcwd(): returns absolute path of the current directory where python is running in form string str\n",
    "os.chdir(): Changes directory from present working directory to specified directory\n",
    "\n",
    "4. What are the . and .. folders?\n",
    "Answer:\n",
    "Collection of files and sub-directories respectively\n",
    "\n",
    "5. In C:\\bacon\\eggs\\spam.txt, which part is the dir name, and which part is the base name?\n",
    "Answer:\n",
    "Dir name: C:\n",
    "base name:spam.txt\n",
    "\n",
    "6. What are the three “mode” arguments that can be passed to the open() function?\n",
    "Answer:\n",
    "‘r’: open file in read only mode\n",
    "‘w’: open file to edit the content \n",
    "‘a’: open file to append or add to file\n",
    "\n",
    "7. What happens if an existing file is opened in write mode?\n",
    "Answer:\n",
    "It opens the file with the same name in write mode for editing and creates a file if the file does not exists\n",
    "\n",
    "8. How do you tell the difference between read() and readlines()?\n",
    "Answer:\n",
    "Read() reads only a single character up to the specified number of bytes, while readlines() reads a line or string in the file and returns the list of lines\n",
    "\n",
    "9. What data structure does a shelf value resemble/\n",
    "Answer:\n",
    "It resembles a dictionary or dict data type, since it will have stored the data in form of keys and values"
   ]
  }
 ],
 "metadata": {
  "kernelspec": {
   "display_name": "Python 3",
   "language": "python",
   "name": "python3"
  },
  "language_info": {
   "codemirror_mode": {
    "name": "ipython",
    "version": 3
   },
   "file_extension": ".py",
   "mimetype": "text/x-python",
   "name": "python",
   "nbconvert_exporter": "python",
   "pygments_lexer": "ipython3",
   "version": "3.8.8"
  }
 },
 "nbformat": 4,
 "nbformat_minor": 5
}
