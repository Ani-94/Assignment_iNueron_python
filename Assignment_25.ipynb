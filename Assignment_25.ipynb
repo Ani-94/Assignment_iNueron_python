{
 "cells": [
  {
   "cell_type": "code",
   "execution_count": null,
   "id": "689fb38c",
   "metadata": {},
   "outputs": [],
   "source": [
    "1) . What is the difference between enclosing a list comprehension in square brackets and parentheses?\n",
    "Answer:\n",
    "A list comprehension is enclosed in parenthesis gives a generator , which on execution returns an object, whose elements cannot be called by using an index value\n"
   ]
  },
  {
   "cell_type": "code",
   "execution_count": null,
   "id": "9b5fb4a6",
   "metadata": {},
   "outputs": [],
   "source": [
    "2) What is the relationship between generators and iterators?\n",
    "Answer:\n",
    "Iterators are a type of generator where yield function is used, instead of a defined function\n"
   ]
  },
  {
   "cell_type": "code",
   "execution_count": null,
   "id": "f685b0bb",
   "metadata": {},
   "outputs": [],
   "source": [
    "3) What are the signs that a function is a generator function?\n",
    "Answer:\n",
    "A generator will contain atleast one yield function and will return an object when called.\n",
    "Also it will need next() to iterate through the object\n"
   ]
  },
  {
   "cell_type": "code",
   "execution_count": null,
   "id": "95e7eda2",
   "metadata": {},
   "outputs": [],
   "source": [
    "4) What is the purpose of a yield statement?\n",
    "Answer:\n",
    "The yield function returns the generator object when called instead of values\n"
   ]
  },
  {
   "cell_type": "code",
   "execution_count": null,
   "id": "c44e96bb",
   "metadata": {},
   "outputs": [],
   "source": [
    "5) What is the relationship between map calls and list comprehensions? Make a comparison and contrast between the two.\n",
    "Answer:\n",
    "1. list comprehension returns a list while the map calls returns an object\n",
    "2. List allows filtering of elements, while no such functions are supported in map\n",
    "3. List is faster than when a list complicated expressions are to be evaluated\n",
    "4. Map is faster when an already defined function is called\n"
   ]
  }
 ],
 "metadata": {
  "kernelspec": {
   "display_name": "Python 3",
   "language": "python",
   "name": "python3"
  },
  "language_info": {
   "codemirror_mode": {
    "name": "ipython",
    "version": 3
   },
   "file_extension": ".py",
   "mimetype": "text/x-python",
   "name": "python",
   "nbconvert_exporter": "python",
   "pygments_lexer": "ipython3",
   "version": "3.8.8"
  }
 },
 "nbformat": 4,
 "nbformat_minor": 5
}
