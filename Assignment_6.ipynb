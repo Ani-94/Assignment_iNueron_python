{
 "cells": [
  {
   "cell_type": "code",
   "execution_count": null,
   "id": "a25493e7",
   "metadata": {},
   "outputs": [],
   "source": [
    "1. What are escape characters, and how do you use them?\n",
    "Answer:\n",
    "Any characters that disturbs the syntax of a string can be introduced in a string using ‘ \\’, thus allowing the characters in the string and also avoid errors\n",
    "\n",
    "2. What do the escape characters n and t stand for?\n",
    "Answer:\n",
    "\\n = next/new line\n",
    "\\t = tab\n",
    "\n",
    "3. What is the way to include backslash characters in a string?\n",
    "Answer:\n",
    "the character should be lead by a backlash ‘ \\ ‘\n",
    "\n",
    "4. The string \"Howl's Moving Castle\" is a correct value. Why isn't the single quote character in the word Howl's not escaped a problem?\n",
    "Answer:\n",
    "Single quote ( ‘ ) normally signifies start and end of a string or a characters, in the above example the program reads it as a start of string or character without an ending single quote, hence errors will be observed\n",
    "\n",
    "5. How do you write a string of newlines if you don't want to use the n character?\n",
    "Answer:\n",
    "By using multiline strings with the help of 3 double quotes or 3 single quotes\n",
    "example:\n",
    "str = “”” Hi\n",
    "\thow are you?”””\n",
    "print(str)\n",
    "output :\n",
    "“”” Hi\n",
    "    how are you?”””\n",
    "\n",
    "6. What are the values of the given expressions?\n",
    "'Hello, world!'[1] = ‘e’\n",
    "'Hello, world!'[0:5] = ‘Hello’\n",
    "'Hello, world!'[:5] = ‘Hello’\n",
    "'Hello, world!'[3:] = ‘lo, world!’\n",
    "\n",
    "7. What are the values of the following expressions?\n",
    "'Hello'.upper() = ‘HELLO’\n",
    "'Hello'.upper().isupper() =True\n",
    "'Hello'.upper().lower() = False\n",
    "\n",
    "8. What are the values of the following expressions?\n",
    "'Remember, remember, the fifth of July.'.split()\n",
    "'-'.join('There can only one.'.split())\n",
    "Answer:\n",
    "'Remember,-remember,-the-fifth-of-July.'\n",
    "\n",
    "9. What are the methods for right-justifying, left-justifying, and centering a string?\n",
    "Answer:\n",
    "if variable s stores the string then the methods are:\n",
    "str.ljust()\n",
    "str.rjust()\n",
    "str.center()\n",
    "\n",
    "10. What is the best way to remove whitespace characters from the start or end?\n",
    "Answer:\n",
    "Function replace() can be used to remove all the white spaces in the string"
   ]
  }
 ],
 "metadata": {
  "kernelspec": {
   "display_name": "Python 3",
   "language": "python",
   "name": "python3"
  },
  "language_info": {
   "codemirror_mode": {
    "name": "ipython",
    "version": 3
   },
   "file_extension": ".py",
   "mimetype": "text/x-python",
   "name": "python",
   "nbconvert_exporter": "python",
   "pygments_lexer": "ipython3",
   "version": "3.8.8"
  }
 },
 "nbformat": 4,
 "nbformat_minor": 5
}
