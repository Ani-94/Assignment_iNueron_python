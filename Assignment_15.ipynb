{
 "cells": [
  {
   "cell_type": "code",
   "execution_count": null,
   "id": "ca9c1edf",
   "metadata": {},
   "outputs": [],
   "source": [
    "1.How many seconds are in an hour? Use the interactive interpreter as a calculator and multiply the number \n",
    "of seconds in a minute (60) by the number of minutes in an hour (also 60).\n",
    "sol. 60 \n",
    "Answer:\n",
    "sec= 3600\n",
    "\n",
    "2. Assign the result from the previous task (seconds in an hour) to a variable called seconds_per_hour.\n",
    "Asnwer:\n",
    "seconds_per_hour = sec\n",
    "\n",
    "3. How many seconds do you think there are in a day? Make use of the variables seconds per hour and minutes per hour.\n",
    "Answer:\n",
    "86400\n",
    "\n",
    "4. Calculate seconds per day again, but this time save the result in a variable called seconds_per_day\n",
    "\n",
    "Answer:seconds_per_day = 86400\n",
    "\n",
    "5. Divide seconds_per_day by seconds_per_hour. Use floating-point (/) division.\n",
    "Answer:\n",
    "24.0\n",
    "\n",
    "6. Divide seconds_per_day by seconds_per_hour, using integer (//) division. Did this number agree with the floating-point value from the previous question, aside from the final .0?\n",
    "Answer:\n",
    "24\n",
    "\n",
    "7. Write a generator, genPrimes, that returns the sequence of prime numbers on successive calls to its next() method: 2, 3, 5, 7, 11, ...\n",
    "Answer:\n",
    "def genprime():\n",
    "\t“””Generates prime numbers sequence”””\n",
    "\tp= []\n",
    "\tfor i in range(n):\n",
    "\t\tif i ==0:\n",
    "\t\t\tp(i) = 0\n",
    "\t\t\tp(i+1) = 1\n",
    "\t\t\tp.append(p(i))\n",
    "\t\t\tp.append(p(i+1))\n",
    "\t\telse:\n",
    "\t\t\tp(i+2) = p(i)+p(i+1)\n",
    "\t\t\tp.append(p(i+2))\n",
    "\tprint(p)\n"
   ]
  }
 ],
 "metadata": {
  "kernelspec": {
   "display_name": "Python 3",
   "language": "python",
   "name": "python3"
  },
  "language_info": {
   "codemirror_mode": {
    "name": "ipython",
    "version": 3
   },
   "file_extension": ".py",
   "mimetype": "text/x-python",
   "name": "python",
   "nbconvert_exporter": "python",
   "pygments_lexer": "ipython3",
   "version": "3.8.8"
  }
 },
 "nbformat": 4,
 "nbformat_minor": 5
}
