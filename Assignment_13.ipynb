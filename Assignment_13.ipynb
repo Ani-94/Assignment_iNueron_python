{
 "cells": [
  {
   "cell_type": "code",
   "execution_count": null,
   "id": "4d458ea1",
   "metadata": {},
   "outputs": [],
   "source": [
    "1. What advantages do Excel spreadsheets have over CSV spreadsheets?\n",
    "Answer:\n",
    "Excel allows a user to manipulate the data\n",
    "\n",
    "2.What do you pass to csv.reader() and csv.writer() to create reader and writer objects?\n",
    "Answer:\n",
    "A file name and a delimeter\n",
    "\n",
    "3. What modes do File objects for reader and writer objects need to be opened in?\n",
    "Answer:\n",
    "open() function\n",
    "\n",
    "4. What method takes a list argument and writes it to a CSV file?\n",
    "Answer:\n",
    "writerows()\n",
    "\n",
    "5. What do the keyword arguments delimiter and line terminator do?\n",
    "Answer:\n",
    "The delimeter is a character tht appears between cells on a row for separation statements. While line terminator comes at the end of the row, from where a new line starts\n",
    "\n",
    "6. What function takes a string of JSON data and returns a Python data structure?\n",
    "Answer:\n",
    "json.loads()\n",
    "\n",
    "7. What function takes a Python data structure and returns a string of JSON data?\n",
    "Answer:\n",
    "json.dumps()\n"
   ]
  }
 ],
 "metadata": {
  "kernelspec": {
   "display_name": "Python 3",
   "language": "python",
   "name": "python3"
  },
  "language_info": {
   "codemirror_mode": {
    "name": "ipython",
    "version": 3
   },
   "file_extension": ".py",
   "mimetype": "text/x-python",
   "name": "python",
   "nbconvert_exporter": "python",
   "pygments_lexer": "ipython3",
   "version": "3.8.8"
  }
 },
 "nbformat": 4,
 "nbformat_minor": 5
}
