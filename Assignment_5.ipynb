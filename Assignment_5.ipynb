{
 "cells": [
  {
   "cell_type": "code",
   "execution_count": null,
   "id": "5cfe9444",
   "metadata": {},
   "outputs": [],
   "source": [
    "1. What does an empty dictionary's code look like?\n",
    "Answer:\n",
    "d ={}\n",
    "\n",
    "2. What is the value of a dictionary value with the key 'foo' and the value 42?\n",
    "Answer:\n",
    "d ={‘foo’:42}\n",
    "\n",
    "3. What is the most significant distinction between a dictionary and a list?\n",
    "Answer:\n",
    "a list is a sequentially stored data which can be accessed using their position\n",
    "whereas a dictionary is not ordered and the values of a dictionary is accessed by calling the key values\n",
    "\n",
    "4. What happens if you try to access spam['foo'] if spam is {'bar': 100}?\n",
    "Answer:\n",
    "Since the key is not in the spam dictionary there will be an error\n",
    "\n",
    "5. If a dictionary is stored in spam, what is the difference between the expressions 'cat' in spam and 'cat' in spam.keys()?\n",
    "Answer:\n",
    "When a dictionary is called by default we’ll be accessing the keys of the dictionary. In this case both the functions checks for the key ‘cat’ in spam or  key ‘cat’ in keys stored in spam\n",
    "\n",
    "6. If a dictionary is stored in spam, what is the difference between the expressions 'cat' in spam and 'cat' in spam.values()?\n",
    "Answer:\n",
    "When a dictionary is called by default we’ll be accessing the keys of the dictionary not the valuess. In case 1 that is cat in spam the functions checks for the key ‘cat’ in spam or  key ‘cat’ in keys stored in spam. And case 2 checks for value cat in values stored in spam\n",
    "\n",
    "7. What is a shortcut for the following code?\n",
    "if 'color' not in spam:\n",
    "spam['color'] = 'black'\n",
    "Answer:\n",
    "spam.setdefault(‘color’,’black’)\n",
    "\n",
    "8. How do you \"pretty print\" dictionary values using which module and function?\n",
    "Answer:\n",
    "By using pprint() function, json.dumps() and yaml.dumps() functions\n"
   ]
  }
 ],
 "metadata": {
  "kernelspec": {
   "display_name": "Python 3",
   "language": "python",
   "name": "python3"
  },
  "language_info": {
   "codemirror_mode": {
    "name": "ipython",
    "version": 3
   },
   "file_extension": ".py",
   "mimetype": "text/x-python",
   "name": "python",
   "nbconvert_exporter": "python",
   "pygments_lexer": "ipython3",
   "version": "3.8.8"
  }
 },
 "nbformat": 4,
 "nbformat_minor": 5
}
