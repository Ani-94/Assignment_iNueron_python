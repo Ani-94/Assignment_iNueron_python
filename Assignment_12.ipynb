{
 "cells": [
  {
   "cell_type": "code",
   "execution_count": null,
   "id": "5f4dfce3",
   "metadata": {},
   "outputs": [],
   "source": [
    "1. In what modes should the PdfFileReader() and PdfFileWriter() File objects will be opened?\n",
    "Answer:\n",
    "read-binary mode\n",
    "\n",
    "2. From a PdfFileReader object, how do you get a Page object for page 5?\n",
    "Answer:\n",
    "by passing the page number to getPage() object\n",
    "\n",
    "3. What PdfFileReader variable stores the number of pages in the PDF document?\n",
    "Answer:\n",
    "numpage sattribute\n",
    "\n",
    "4. If a PdfFileReader object’s PDF is encrypted with the password swordfish, what must you do before you can obtain Page objects from it?\n",
    "Answer:\n",
    "pdfReader.decrypt()\n",
    "\n",
    "5. What methods do you use to rotate a page?\n",
    "Answer:\n",
    "page.rotateClockwise()\n",
    "page.rotateCounterClockwise()\n",
    "\n",
    "6. What is the difference between a Run object and a Paragraph object?\n",
    "Answer:\n",
    "Run object has text attributes containing texts of that particular run, while paragraph object will have run objects\n",
    "\n",
    "7. How do you obtain a list of Paragraph objects for a Document object that’s stored in a variable named doc?\n",
    "Answer:\n",
    "extractText()\n",
    "\n",
    "8. What type of object has bold, underline, italic, strike, and outline variables?\n",
    "Answer:\n",
    "write()\n",
    "\n",
    "9. What is the difference between False, True, and None for the bold variable?\n",
    "Answer:\n",
    "false and true are specific boolean values while none is used as a generic place holder when the value will be set\n",
    "\n",
    "10. How do you create a Document object for a new Word document?\n",
    "Answer:\n",
    "docx.Document()\n",
    "\n",
    "11. How do you add a paragraph with the text 'Hello, there!' to a Document object stored in a variable named doc?\n",
    "Answer:\n",
    "add_paragraph('Hello, there!')\n",
    "\n",
    "12. What integers represent the levels of headings available in Word documents?\n",
    "Answer:\n",
    "0 to 4"
   ]
  }
 ],
 "metadata": {
  "kernelspec": {
   "display_name": "Python 3",
   "language": "python",
   "name": "python3"
  },
  "language_info": {
   "codemirror_mode": {
    "name": "ipython",
    "version": 3
   },
   "file_extension": ".py",
   "mimetype": "text/x-python",
   "name": "python",
   "nbconvert_exporter": "python",
   "pygments_lexer": "ipython3",
   "version": "3.8.8"
  }
 },
 "nbformat": 4,
 "nbformat_minor": 5
}
