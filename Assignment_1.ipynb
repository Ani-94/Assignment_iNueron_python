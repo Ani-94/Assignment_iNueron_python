{
 "cells": [
  {
   "cell_type": "code",
   "execution_count": null,
   "id": "d06e9a59",
   "metadata": {},
   "outputs": [],
   "source": [
    "1. In the below elements which of them are values or an expression? \n",
    "eg:- values can be integer or string and expressions will be mathematical operators.\n",
    "* \n",
    "'hello'\n",
    "-87.8\n",
    "- \n",
    "/ \n",
    "+\t\n",
    "6 \n"
   ]
  },
  {
   "cell_type": "code",
   "execution_count": null,
   "id": "56dd7118",
   "metadata": {},
   "outputs": [],
   "source": [
    "Answer: \n",
    "    Expression:*,-,/,+\t\n",
    "    Values: 'hello', -87.8,6\n"
   ]
  },
  {
   "cell_type": "code",
   "execution_count": null,
   "id": "2ecdfcd6",
   "metadata": {},
   "outputs": [],
   "source": [
    "2. What is the difference between string and variable?"
   ]
  },
  {
   "cell_type": "code",
   "execution_count": null,
   "id": "00106663",
   "metadata": {},
   "outputs": [],
   "source": [
    "Answer: \n",
    "    varaibale is user defined term or name in which any value can be stored\n",
    "    while string is a value of series of characters or a single character that is stored in the variable.\n",
    "    basically string defines or depicts the type of data that is stored in the variable."
   ]
  },
  {
   "cell_type": "code",
   "execution_count": null,
   "id": "98fe1f29",
   "metadata": {},
   "outputs": [],
   "source": [
    "3. Describe three different data types."
   ]
  },
  {
   "cell_type": "code",
   "execution_count": null,
   "id": "10a4e8cf",
   "metadata": {},
   "outputs": [],
   "source": [
    "Answer : \n",
    "    Int: a variable defined as an int type can store the positive or negative non decimal type of numbers \n",
    "    String: a variable defined as a string type can store values of characters or a series of characters \n",
    "    List: a variable defined as a list type can stores a sequence of data of every data type and is seperated by commas\",\", but \n",
    "        these values are enclosed by square brackets \"[]\""
   ]
  },
  {
   "cell_type": "code",
   "execution_count": 3,
   "id": "18970749",
   "metadata": {},
   "outputs": [],
   "source": [
    "4. What is an expression made up of? What do all expressions do?\n"
   ]
  },
  {
   "cell_type": "code",
   "execution_count": null,
   "id": "01bcff22",
   "metadata": {},
   "outputs": [],
   "source": [
    "Answer:\n",
    "    An expression will be a combination of various operators and variables, which will be stored in different or the same \n",
    "    variable based on the need of the user\n",
    "    Expressions are meant to manipulate a data or perform defined operations or variable or values stored in variables\n",
    "    to derive meaningful results on execution"
   ]
  },
  {
   "cell_type": "code",
   "execution_count": null,
   "id": "3f8b1022",
   "metadata": {},
   "outputs": [],
   "source": [
    "5. This assignment statements, like spam = 10. What is the difference between an expression and a statement?\n"
   ]
  },
  {
   "cell_type": "code",
   "execution_count": null,
   "id": "08d43f06",
   "metadata": {},
   "outputs": [],
   "source": [
    "Answer:\n",
    "    Expression is a series of operations that needs to be performed to derive meaningful results, which is achieved by \n",
    "    manipulating the values stored in variables\n",
    "    Statement is an instruction to python which needs to be executed, also all expressions can be called as statements but not \n",
    "    all statements are expressions"
   ]
  },
  {
   "cell_type": "code",
   "execution_count": null,
   "id": "7d469c7f",
   "metadata": {},
   "outputs": [],
   "source": [
    "6. After running the following code, what does the variable bacon contain?\n",
    "bacon = 22\n",
    "bacon + 1\n"
   ]
  },
  {
   "cell_type": "code",
   "execution_count": null,
   "id": "9257b23d",
   "metadata": {},
   "outputs": [],
   "source": [
    "Answer :\n",
    "    23"
   ]
  },
  {
   "cell_type": "code",
   "execution_count": null,
   "id": "dbd4bb83",
   "metadata": {},
   "outputs": [],
   "source": [
    "7. What should the values of the following two terms be?\n",
    "'spam' + 'spamspam'\n",
    "'spam' * 3"
   ]
  },
  {
   "cell_type": "code",
   "execution_count": null,
   "id": "5e74cf17",
   "metadata": {},
   "outputs": [],
   "source": [
    "Answer:\n",
    "    'spamspamspam'"
   ]
  },
  {
   "cell_type": "code",
   "execution_count": null,
   "id": "b59c442c",
   "metadata": {},
   "outputs": [],
   "source": [
    "8. Why is eggs a valid variable name while 100 is invalid?"
   ]
  },
  {
   "cell_type": "code",
   "execution_count": null,
   "id": "738649eb",
   "metadata": {},
   "outputs": [],
   "source": [
    "Answer:\n",
    "    while is an in built looping function, which has pre-defined tasks to be executed everytime until the condition is \n",
    "    dissatisfied, while eggs is a random name which is not function either in built or user defined and hence can be defined\n",
    "    as a variable"
   ]
  },
  {
   "cell_type": "code",
   "execution_count": null,
   "id": "cb0e7e19",
   "metadata": {},
   "outputs": [],
   "source": [
    "9. What three functions can be used to get the integer, floating-point number, or string version of a value?"
   ]
  },
  {
   "cell_type": "code",
   "execution_count": null,
   "id": "6b8830d9",
   "metadata": {},
   "outputs": [],
   "source": [
    "Answer:\n",
    "    int() can be used to get integer version of value\n",
    "    \n",
    "    float() can be used to get floating point number of value\n",
    "    \n",
    "    str() can be used to get string version of value"
   ]
  },
  {
   "cell_type": "code",
   "execution_count": null,
   "id": "302183fb",
   "metadata": {},
   "outputs": [],
   "source": [
    "10. Why does this expression cause an error? How can you fix it?\n",
    "'I have eaten ' + 99 + ' burritos.'"
   ]
  },
  {
   "cell_type": "code",
   "execution_count": null,
   "id": "9e8284bc",
   "metadata": {},
   "outputs": [],
   "source": [
    "Answer:\n",
    "    This kind of expression is called as concatenation where 3 different string type of values only,\n",
    "    in the given example 99 is of integer type while the other 2 string type\n",
    "    If 99 is converted to string type by introducing a single quote or double quotes then the \n",
    "    above expression can be executed\n",
    "    "
   ]
  },
  {
   "cell_type": "code",
   "execution_count": 5,
   "id": "0aa9c9c9",
   "metadata": {},
   "outputs": [
    {
     "data": {
      "text/plain": [
       "'I have eaten 99 burritos.'"
      ]
     },
     "execution_count": 5,
     "metadata": {},
     "output_type": "execute_result"
    }
   ],
   "source": [
    "'I have eaten ' + '99' + ' burritos.'"
   ]
  },
  {
   "cell_type": "code",
   "execution_count": null,
   "id": "897ef0bc",
   "metadata": {},
   "outputs": [],
   "source": []
  }
 ],
 "metadata": {
  "kernelspec": {
   "display_name": "Python 3",
   "language": "python",
   "name": "python3"
  },
  "language_info": {
   "codemirror_mode": {
    "name": "ipython",
    "version": 3
   },
   "file_extension": ".py",
   "mimetype": "text/x-python",
   "name": "python",
   "nbconvert_exporter": "python",
   "pygments_lexer": "ipython3",
   "version": "3.8.8"
  }
 },
 "nbformat": 4,
 "nbformat_minor": 5
}
