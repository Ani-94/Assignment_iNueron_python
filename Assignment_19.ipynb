{
 "cells": [
  {
   "cell_type": "code",
   "execution_count": 11,
   "id": "32ed788c",
   "metadata": {},
   "outputs": [],
   "source": [
    "#1. Make a class called Thing with no contents and print it. Then, create an object called example\n",
    "#from this class and also print it. Are the printed values the same or different?\n",
    "class Thing():\n",
    "    def example():\n",
    "        return\n"
   ]
  },
  {
   "cell_type": "code",
   "execution_count": 12,
   "id": "e712588f",
   "metadata": {},
   "outputs": [],
   "source": [
    "#2. Create a new class called Thing2 and add the value 'abc' to the letters class attribute. \n",
    "#Letters should be printed.\n",
    "class Thing2():\n",
    "    def letter():\n",
    "        print('abc')"
   ]
  },
  {
   "cell_type": "code",
   "execution_count": 13,
   "id": "846be0cf",
   "metadata": {},
   "outputs": [],
   "source": [
    "#3. Make yet another class called, of course, Thing3. \n",
    "#This time, assign the value 'xyz' to an instance (object) attribute called letters.\n",
    "#Print letters. Do you need to make an object from the class to do this?\n",
    "class Thing3():\n",
    "    def letter():\n",
    "        print('xyz')"
   ]
  },
  {
   "cell_type": "code",
   "execution_count": 14,
   "id": "9cf3e1bc",
   "metadata": {},
   "outputs": [],
   "source": [
    "d=Thing"
   ]
  },
  {
   "cell_type": "code",
   "execution_count": 15,
   "id": "b7bfb539",
   "metadata": {},
   "outputs": [],
   "source": [
    "d.example()"
   ]
  },
  {
   "cell_type": "code",
   "execution_count": 16,
   "id": "8dd61824",
   "metadata": {},
   "outputs": [],
   "source": [
    "e = Thing2"
   ]
  },
  {
   "cell_type": "code",
   "execution_count": 18,
   "id": "6001197a",
   "metadata": {},
   "outputs": [
    {
     "name": "stdout",
     "output_type": "stream",
     "text": [
      "abc\n"
     ]
    }
   ],
   "source": [
    "e.letter()"
   ]
  },
  {
   "cell_type": "code",
   "execution_count": 19,
   "id": "fa595658",
   "metadata": {},
   "outputs": [],
   "source": [
    "f =Thing3"
   ]
  },
  {
   "cell_type": "code",
   "execution_count": 20,
   "id": "6535098f",
   "metadata": {},
   "outputs": [
    {
     "name": "stdout",
     "output_type": "stream",
     "text": [
      "xyz\n"
     ]
    }
   ],
   "source": [
    "f.letter()"
   ]
  },
  {
   "cell_type": "code",
   "execution_count": 21,
   "id": "343146be",
   "metadata": {},
   "outputs": [],
   "source": [
    "#4. Create an Element class with the instance attributes name, symbol, and number. \n",
    "#Create a class object with the values 'Hydrogen,' 'H,' and 1.\n",
    "\n",
    "class Element():\n",
    "    def __init__(a,h1,h2,h3):\n",
    "        a.h1='Hydrogen' \n",
    "        a.h2 ='H'\n",
    "        a.h3=1"
   ]
  },
  {
   "cell_type": "code",
   "execution_count": 23,
   "id": "eb8e7722",
   "metadata": {},
   "outputs": [],
   "source": [
    "#5. Make a dictionary with these keys and values: 'name': 'Hydrogen', 'symbol': 'H', 'number': 1.\n",
    "#Then, create an object called hydrogen from class Element using this dictionary.\n",
    "\n",
    "class Element():\n",
    "    def __init__(a,h1,h2,h3):\n",
    "        a.h1='Hydrogen' \n",
    "        a.h2 ='H'\n",
    "        a.h3=1\n",
    "    def hydrogen():\n",
    "        d={'name':a.h1,'symbol':a.h2,'number':a.h3}"
   ]
  },
  {
   "cell_type": "code",
   "execution_count": 132,
   "id": "afa8bbd8",
   "metadata": {},
   "outputs": [],
   "source": [
    "#6. For the Element class, define a method called dump() that prints the values of the object’s attributes \n",
    "#(name, symbol, and number). Create the hydrogen object from this new definition and use dump() to print its attributes.\n",
    "class Element():\n",
    "    def hydrogen():\n",
    "        h1='Hydrogen' \n",
    "        h2 ='H'\n",
    "        h3=1\n",
    "        d={'name':h1,'symbol':h2,'number':h3}\n",
    "        return(d)\n",
    "        \n",
    "    \n",
    "    def dump_it():\n",
    "        e=Element\n",
    "        result = e.hydrogen()\n",
    "        print(result)"
   ]
  },
  {
   "cell_type": "code",
   "execution_count": 133,
   "id": "dadd16d6",
   "metadata": {},
   "outputs": [
    {
     "name": "stdout",
     "output_type": "stream",
     "text": [
      "{'name': 'Hydrogen', 'symbol': 'H', 'number': 1}\n"
     ]
    }
   ],
   "source": [
    "g = Element\n",
    "g.dump_it()"
   ]
  },
  {
   "cell_type": "code",
   "execution_count": 136,
   "id": "97ad315c",
   "metadata": {},
   "outputs": [
    {
     "name": "stdout",
     "output_type": "stream",
     "text": [
      "<class '__main__.Element'>\n"
     ]
    }
   ],
   "source": [
    "#7. Call print(hydrogen). In the definition of Element, change the name of method dump to \n",
    "#__str__, create a new hydrogen object, and call print(hydrogen) again.\n",
    "#print(hydrogen)\n",
    "\n",
    "class Element():\n",
    "    def __init__(a,h1,h2,h3):\n",
    "        h1='Hydrogen' \n",
    "        h2 ='H'\n",
    "        h3=1\n",
    "    def hydrogen():\n",
    "        d={'name':h1,'symbol':h2,'number':h3}\n",
    "        \n",
    "    def __str__():\n",
    "        e=Element\n",
    "        result = e.hydrogen()\n",
    "        print(result)\n",
    "        \n",
    "        \n",
    "hydrogen = Element\n",
    "print(hydrogen)\n"
   ]
  },
  {
   "cell_type": "code",
   "execution_count": null,
   "id": "a16ac550",
   "metadata": {},
   "outputs": [],
   "source": [
    "#8. Modify Element to make the attributes name, symbol, and number private.\n",
    "#Define a getter property for each to return its value.\n",
    "def getter():\n",
    "\tdk = __str__.d[keys]\n",
    "\tfor i in dk:\n",
    "\t\tprint(i)"
   ]
  },
  {
   "cell_type": "code",
   "execution_count": 144,
   "id": "581cd639",
   "metadata": {},
   "outputs": [
    {
     "name": "stdout",
     "output_type": "stream",
     "text": [
      "berries\n",
      "None\n",
      "clover\n",
      "None\n",
      "campers\n",
      "None\n"
     ]
    }
   ],
   "source": [
    "#9. Define three classes: Bear, Rabbit, and Octothorpe. \n",
    "#For each, define only one method: eats(). This should return 'berries' (Bear), 'clover' (Rabbit),\n",
    "#or 'campers' (Octothorpe). Create one object from each and print what it eats.\n",
    "class bear():\n",
    "    def eats():\n",
    "        print('berries')\n",
    "class rabbit():\n",
    "    def eats():\n",
    "        print('clover')\n",
    "\n",
    "class octothorpe():\n",
    "    def eats():\n",
    "        print('campers')\n",
    "\n",
    "a = bear\n",
    "print(a.eats())\n",
    "b = rabbit\n",
    "print(b.eats())\n",
    "c = octothorpe\n",
    "print(c.eats())\n"
   ]
  },
  {
   "cell_type": "code",
   "execution_count": 151,
   "id": "9286d12e",
   "metadata": {},
   "outputs": [
    {
     "name": "stdout",
     "output_type": "stream",
     "text": [
      "laser :disintegrate\n",
      "claw:crush\n",
      "smartphone:ring\n"
     ]
    }
   ],
   "source": [
    "#10. Define these classes: Laser, Claw, and SmartPhone.\n",
    "#Each has only one method: does(). This returns 'disintegrate' (Laser), 'crush' (Claw), or 'ring' (SmartPhone).\n",
    "#Then, define the class Robot that has one instance (object) of each of these.\n",
    "#Define a does() method for the Robot that prints what its component objects do.\n",
    "class laser():\n",
    "\tdef dose():\n",
    "\t\tprint('disintegrate')\n",
    "        \n",
    "class claw():\n",
    "\tdef dose():\n",
    "\t\tprint('crush')\n",
    "        \n",
    "class smartphone():\n",
    "\tdef dose():\n",
    "\t\tprint('ring')\n",
    "        \n",
    "class robot():\n",
    "    def dose():\n",
    "        print('laser :disintegrate')\n",
    "        print('claw:crush')\n",
    "        print('smartphone:ring')   \n",
    "        \n",
    "    def laser():\n",
    "        print('disintegrate')      \n",
    "        \n",
    "    def claw():\n",
    "        print('crush')\n",
    "        \n",
    "    def smartphone():\n",
    "        print('ring')\n",
    "\n",
    "a = robot\n",
    "\n",
    "a.dose()"
   ]
  }
 ],
 "metadata": {
  "kernelspec": {
   "display_name": "Python 3",
   "language": "python",
   "name": "python3"
  },
  "language_info": {
   "codemirror_mode": {
    "name": "ipython",
    "version": 3
   },
   "file_extension": ".py",
   "mimetype": "text/x-python",
   "name": "python",
   "nbconvert_exporter": "python",
   "pygments_lexer": "ipython3",
   "version": "3.8.8"
  }
 },
 "nbformat": 4,
 "nbformat_minor": 5
}
