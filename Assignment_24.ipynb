{
 "cells": [
  {
   "cell_type": "markdown",
   "id": "4bb53f24",
   "metadata": {},
   "source": [
    "1. What is the relationship between def statements and lambda expressions ?\n",
    "Answer:\n",
    "A lambda function always returns the value directly, while the def function saves the result in a variable, which can be accessed accordingly\n",
    "\n",
    "2. What is the benefit of lambda?\n",
    "Answer:\n",
    "Allows to create small single use functions, that can save time and space\n",
    "The functions thus generated can be used as an input in other fucntions like map(), where map() function accepts defined functions as input\n",
    "\n",
    "3. Compare and contrast map, filter, and reduce.\n",
    "Answer:\n",
    "All the 3 take a function and a list of elements, where the apply the functions to the elements in the list and returns the value\n",
    "Map() will return the same size of elements as that of the input list, while reduce returns one single element after the execution. While filter returns an array after removing elements that dont belong in the list\n",
    "\n",
    "4. What are function annotations, and how are they used?\n",
    "Answer:\n",
    "They are temporary functions that are associated with various parts of the function.\n",
    "\n",
    "5. What are recursive functions, and how are they used?\n",
    "Answer:\n",
    "A recursive function is one that calls the function unless a condition terminates the loop\n",
    "They can be used by defining a base function with condition to terminate and a recursive function to call the function itself\n",
    "\n",
    "6. What are some general design guidelines for coding functions?\n",
    "Answer:\n",
    "1. Use logging rather than printing\n",
    "2. Convert the code to more modular type or use OOPS concept\n",
    "3. Use docstring to help the user understand the function better\n",
    "4.Use comments where ever applicable for lesser ambiguity\n",
    "5. Use proper variable names to understand the role/need of the variable\n",
    "\n",
    "7. Name three or more ways that functions can communicate results to a caller.\n",
    "Answer:\n",
    "1.By using return function, the result is sent back to the caller.\n",
    "2.By using logging library\n",
    "3.By exception handling inn case of ambiguous functions\n",
    "4.By using print() function\n",
    "\n",
    "\n"
   ]
  }
 ],
 "metadata": {
  "kernelspec": {
   "display_name": "Python 3",
   "language": "python",
   "name": "python3"
  },
  "language_info": {
   "codemirror_mode": {
    "name": "ipython",
    "version": 3
   },
   "file_extension": ".py",
   "mimetype": "text/x-python",
   "name": "python",
   "nbconvert_exporter": "python",
   "pygments_lexer": "ipython3",
   "version": "3.8.8"
  }
 },
 "nbformat": 4,
 "nbformat_minor": 5
}
