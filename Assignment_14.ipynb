{
 "cells": [
  {
   "cell_type": "code",
   "execution_count": null,
   "id": "0e348944",
   "metadata": {},
   "outputs": [],
   "source": [
    "1. What does RGBA stand for?\n",
    "R-Red\n",
    "G-Green\n",
    "B-Blue\n",
    "A-Alpha(opacity)\n",
    "\n",
    "2. From the Pillow module, how do you get the RGBA value of any images?\n",
    "Answer:\n",
    "Load the image in to a variable convert it using convert(“RGBA”) then use getdata() to get RGBA value\n",
    "\n",
    "3. What is a box tuple, and how does it work?\n",
    "Answer:\n",
    "A tuple of 4 integers representing the area filled the 1st and 2nd represent the top left co-ordinate that is the start of the image which are included while 3rd and 4th represents bottom right co-ordinate which is external to the image, thus defining the border of image\n",
    "\n",
    "4. Use your image and load in notebook then, How can you find out the width and height of an Image object?\n",
    "Answer:\n",
    "size() stores the width and height of the image\n",
    "\n",
    "5. What method would you call to get Image object for a 100×100 image, excluding the lower-left quarter of it?\n",
    "Answer:\n",
    "resize()\n",
    "\n",
    "6. After making changes to an Image object, how could you save it as an image file?\n",
    "Answer:\n",
    "save(os.path.join(“name”,filename))\n",
    "\n",
    "7. What module contains Pillow’s shape-drawing code?\n",
    "Answer:\n",
    "turtle\n",
    "\n",
    "8. Image objects do not have drawing methods. What kind of object does? How do you get this kind of object?\n",
    "Answer:\n",
    "Drawing() is the module that can be obtained using wand "
   ]
  }
 ],
 "metadata": {
  "kernelspec": {
   "display_name": "Python 3",
   "language": "python",
   "name": "python3"
  },
  "language_info": {
   "codemirror_mode": {
    "name": "ipython",
    "version": 3
   },
   "file_extension": ".py",
   "mimetype": "text/x-python",
   "name": "python",
   "nbconvert_exporter": "python",
   "pygments_lexer": "ipython3",
   "version": "3.8.8"
  }
 },
 "nbformat": 4,
 "nbformat_minor": 5
}
