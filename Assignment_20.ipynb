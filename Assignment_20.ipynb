{
 "cells": [
  {
   "cell_type": "code",
   "execution_count": 1,
   "id": "f5afd262",
   "metadata": {},
   "outputs": [],
   "source": [
    "#1. Set the variable test1 to the string 'This is a test of the emergency text system,' \n",
    "#and save test1 to a file named test.txt.\n",
    "\n",
    "import os\n",
    "test1 ='This is a test of the emergency text system,'\n",
    "with open('test.txt','w') as f:\n",
    "    f.write(test1)"
   ]
  },
  {
   "cell_type": "code",
   "execution_count": 3,
   "id": "777c5ce9",
   "metadata": {},
   "outputs": [
    {
     "name": "stdout",
     "output_type": "stream",
     "text": [
      "This is a test of the emergency text system,\n"
     ]
    }
   ],
   "source": [
    "#2. Read the contents of the file test.txt into the variable test2. Is there a difference between test 1 and test 2?\n",
    "with open('test.txt','r') as f:\n",
    "    test2 = f.read()\n",
    "    print(test2)"
   ]
  },
  {
   "cell_type": "code",
   "execution_count": 41,
   "id": "3cb3c582",
   "metadata": {},
   "outputs": [],
   "source": [
    "#3. Create a CSV file called books.csv by using these lines:\n",
    "#title,author,year\n",
    "#The Weirdstone of Brisingamen,Alan Garner,1960\n",
    "#Perdido Street Station,China Miéville,2000\n",
    "#Thud!,Terry Pratchett,2005\n",
    "#The Spellman Files,Lisa Lutz,2007\n",
    "#Small Gods,Terry Pratchett,1992\n",
    "\n",
    "import csv\n",
    "\n",
    "\n",
    "rows = (['title','author',\"year\"],['The Weirdstone of Brisingamen','Alan Garner','1960'],\n",
    "['Perdido Street Station','China Miéville','2000'],\n",
    "['Thud!','Terry Pratchett','2005'],\n",
    "['The Spellman Files','Lisa Lutz','2007'],\n",
    "['Small Gods','Terry Pratchett','1992'])\n",
    "\n",
    "\n",
    "with open(\"books.csv\",'w') as f:\n",
    "    fw= csv.writer(f)\n",
    "    \n",
    "    fw.writerows(rows)"
   ]
  },
  {
   "cell_type": "code",
   "execution_count": 42,
   "id": "6b2063b9",
   "metadata": {},
   "outputs": [],
   "source": [
    "import pandas as pd\n",
    "\n",
    "data =pd.read_csv(r'C:\\Users\\aniru\\books.csv')\n",
    "\n",
    "df = pd.DataFrame(data)"
   ]
  },
  {
   "cell_type": "code",
   "execution_count": 61,
   "id": "5a0b7978",
   "metadata": {},
   "outputs": [
    {
     "data": {
      "text/plain": [
       "<sqlite3.Cursor at 0x23fdfd74b90>"
      ]
     },
     "execution_count": 61,
     "metadata": {},
     "output_type": "execute_result"
    }
   ],
   "source": [
    "#4. Use the sqlite3 module to create a SQLite database called books.db, \n",
    "#and a table called books with these fields: title (text), author (text), and year (integer).\n",
    "import sqlite3\n",
    "\n",
    "f = \"books.db\"\n",
    "\n",
    "c= sqlite3.connect(f)\n",
    "\n",
    "cur =c.cursor()\n",
    "cur.execute('drop table books')\n",
    "cur.execute('create table books(title VARCHAR(100), author VARCHAR(30), Year INT(30))')"
   ]
  },
  {
   "cell_type": "code",
   "execution_count": 62,
   "id": "790787f4",
   "metadata": {},
   "outputs": [
    {
     "name": "stdout",
     "output_type": "stream",
     "text": [
      "Pandas(Index=0, title='The Weirdstone of Brisingamen', author='Alan Garner', year=1960)\n",
      "Pandas(Index=1, title='Perdido Street Station', author='China Mi�ville', year=2000)\n",
      "Pandas(Index=2, title='Thud!', author='Terry Pratchett', year=2005)\n",
      "Pandas(Index=3, title='The Spellman Files', author='Lisa Lutz', year=2007)\n",
      "Pandas(Index=4, title='Small Gods', author='Terry Pratchett', year=1992)\n"
     ]
    }
   ],
   "source": [
    "for r in df.itertuples():\n",
    "    print(r)\n",
    "    cur.execute('insert into books(title,author,year) values (?,?,?)',r[1:])\n",
    "c.commit()"
   ]
  },
  {
   "cell_type": "code",
   "execution_count": 63,
   "id": "f7c0ffc1",
   "metadata": {},
   "outputs": [
    {
     "data": {
      "text/plain": [
       "<sqlite3.Cursor at 0x23fdfd74b90>"
      ]
     },
     "execution_count": 63,
     "metadata": {},
     "output_type": "execute_result"
    }
   ],
   "source": [
    "cur.execute('select * from books')"
   ]
  },
  {
   "cell_type": "code",
   "execution_count": 64,
   "id": "ec5b360e",
   "metadata": {},
   "outputs": [
    {
     "data": {
      "text/plain": [
       "[('The Weirdstone of Brisingamen', 'Alan Garner', 1960),\n",
       " ('Perdido Street Station', 'China Mi�ville', 2000),\n",
       " ('Thud!', 'Terry Pratchett', 2005),\n",
       " ('The Spellman Files', 'Lisa Lutz', 2007),\n",
       " ('Small Gods', 'Terry Pratchett', 1992)]"
      ]
     },
     "execution_count": 64,
     "metadata": {},
     "output_type": "execute_result"
    }
   ],
   "source": [
    "cur.fetchall()"
   ]
  },
  {
   "cell_type": "code",
   "execution_count": 65,
   "id": "30a3dfab",
   "metadata": {},
   "outputs": [
    {
     "data": {
      "text/html": [
       "<div>\n",
       "<style scoped>\n",
       "    .dataframe tbody tr th:only-of-type {\n",
       "        vertical-align: middle;\n",
       "    }\n",
       "\n",
       "    .dataframe tbody tr th {\n",
       "        vertical-align: top;\n",
       "    }\n",
       "\n",
       "    .dataframe thead th {\n",
       "        text-align: right;\n",
       "    }\n",
       "</style>\n",
       "<table border=\"1\" class=\"dataframe\">\n",
       "  <thead>\n",
       "    <tr style=\"text-align: right;\">\n",
       "      <th></th>\n",
       "      <th>title</th>\n",
       "      <th>author</th>\n",
       "      <th>Year</th>\n",
       "    </tr>\n",
       "  </thead>\n",
       "  <tbody>\n",
       "    <tr>\n",
       "      <th>0</th>\n",
       "      <td>The Weirdstone of Brisingamen</td>\n",
       "      <td>Alan Garner</td>\n",
       "      <td>1960</td>\n",
       "    </tr>\n",
       "    <tr>\n",
       "      <th>1</th>\n",
       "      <td>Perdido Street Station</td>\n",
       "      <td>China Mi�ville</td>\n",
       "      <td>2000</td>\n",
       "    </tr>\n",
       "    <tr>\n",
       "      <th>2</th>\n",
       "      <td>Thud!</td>\n",
       "      <td>Terry Pratchett</td>\n",
       "      <td>2005</td>\n",
       "    </tr>\n",
       "    <tr>\n",
       "      <th>3</th>\n",
       "      <td>The Spellman Files</td>\n",
       "      <td>Lisa Lutz</td>\n",
       "      <td>2007</td>\n",
       "    </tr>\n",
       "    <tr>\n",
       "      <th>4</th>\n",
       "      <td>Small Gods</td>\n",
       "      <td>Terry Pratchett</td>\n",
       "      <td>1992</td>\n",
       "    </tr>\n",
       "  </tbody>\n",
       "</table>\n",
       "</div>"
      ],
      "text/plain": [
       "                           title           author  Year\n",
       "0  The Weirdstone of Brisingamen      Alan Garner  1960\n",
       "1         Perdido Street Station   China Mi�ville  2000\n",
       "2                          Thud!  Terry Pratchett  2005\n",
       "3             The Spellman Files        Lisa Lutz  2007\n",
       "4                     Small Gods  Terry Pratchett  1992"
      ]
     },
     "execution_count": 65,
     "metadata": {},
     "output_type": "execute_result"
    }
   ],
   "source": [
    "pd.read_sql('select * from books',c)"
   ]
  },
  {
   "cell_type": "code",
   "execution_count": 66,
   "id": "34c502af",
   "metadata": {},
   "outputs": [
    {
     "data": {
      "text/plain": [
       "<sqlite3.Cursor at 0x23fdfd74b90>"
      ]
     },
     "execution_count": 66,
     "metadata": {},
     "output_type": "execute_result"
    }
   ],
   "source": [
    "#6. Select and print the title column from the book table in alphabetical order.\n",
    "\n",
    "cur.execute('select * from books')"
   ]
  },
  {
   "cell_type": "code",
   "execution_count": 67,
   "id": "8df37737",
   "metadata": {},
   "outputs": [
    {
     "data": {
      "text/plain": [
       "<sqlite3.Cursor at 0x23fdfd74b90>"
      ]
     },
     "execution_count": 67,
     "metadata": {},
     "output_type": "execute_result"
    }
   ],
   "source": [
    "cur.execute('select * from books order by title')"
   ]
  },
  {
   "cell_type": "code",
   "execution_count": 68,
   "id": "a1686731",
   "metadata": {},
   "outputs": [
    {
     "data": {
      "text/plain": [
       "[('Perdido Street Station', 'China Mi�ville', 2000),\n",
       " ('Small Gods', 'Terry Pratchett', 1992),\n",
       " ('The Spellman Files', 'Lisa Lutz', 2007),\n",
       " ('The Weirdstone of Brisingamen', 'Alan Garner', 1960),\n",
       " ('Thud!', 'Terry Pratchett', 2005)]"
      ]
     },
     "execution_count": 68,
     "metadata": {},
     "output_type": "execute_result"
    }
   ],
   "source": [
    "cur.fetchall()"
   ]
  },
  {
   "cell_type": "code",
   "execution_count": 71,
   "id": "77a23224",
   "metadata": {},
   "outputs": [
    {
     "data": {
      "text/plain": [
       "<sqlite3.Cursor at 0x23fdfd74b90>"
      ]
     },
     "execution_count": 71,
     "metadata": {},
     "output_type": "execute_result"
    }
   ],
   "source": [
    "#7. From the book table, select and print all columns in the order of publication.\n",
    "cur.execute('select * from books order by year')"
   ]
  },
  {
   "cell_type": "code",
   "execution_count": 72,
   "id": "17f73fe0",
   "metadata": {},
   "outputs": [
    {
     "data": {
      "text/plain": [
       "[('The Weirdstone of Brisingamen', 'Alan Garner', 1960),\n",
       " ('Small Gods', 'Terry Pratchett', 1992),\n",
       " ('Perdido Street Station', 'China Mi�ville', 2000),\n",
       " ('Thud!', 'Terry Pratchett', 2005),\n",
       " ('The Spellman Files', 'Lisa Lutz', 2007)]"
      ]
     },
     "execution_count": 72,
     "metadata": {},
     "output_type": "execute_result"
    }
   ],
   "source": [
    "cur.fetchall()"
   ]
  },
  {
   "cell_type": "code",
   "execution_count": 74,
   "id": "26bacd7f",
   "metadata": {},
   "outputs": [
    {
     "ename": "SyntaxError",
     "evalue": "(unicode error) 'unicodeescape' codec can't decode bytes in position 2-3: truncated \\UXXXXXXXX escape (<ipython-input-74-ecc17a7bdcb7>, line 5)",
     "output_type": "error",
     "traceback": [
      "\u001b[1;36m  File \u001b[1;32m\"<ipython-input-74-ecc17a7bdcb7>\"\u001b[1;36m, line \u001b[1;32m5\u001b[0m\n\u001b[1;33m    e  = db.create_engine('C:\\Users\\aniru\\books.csv')\u001b[0m\n\u001b[1;37m                          ^\u001b[0m\n\u001b[1;31mSyntaxError\u001b[0m\u001b[1;31m:\u001b[0m (unicode error) 'unicodeescape' codec can't decode bytes in position 2-3: truncated \\UXXXXXXXX escape\n"
     ]
    }
   ],
   "source": [
    "#8. Use the sqlalchemy module to connect to the sqlite3 database books.db that you just made in exercise 6.\n",
    "!pip install sqlalchemy\n",
    "import sqlalchemy as db\n",
    "\n",
    "e  = db.create_engine('C:\\Users\\aniru\\books.csv')"
   ]
  },
  {
   "cell_type": "code",
   "execution_count": 75,
   "id": "bb6b5d35",
   "metadata": {},
   "outputs": [
    {
     "name": "stdout",
     "output_type": "stream",
     "text": [
      "Collecting redis\n",
      "  Downloading redis-4.3.4-py3-none-any.whl (246 kB)\n",
      "Collecting async-timeout>=4.0.2\n",
      "  Downloading async_timeout-4.0.2-py3-none-any.whl (5.8 kB)\n",
      "Collecting deprecated>=1.2.3\n",
      "  Downloading Deprecated-1.2.13-py2.py3-none-any.whl (9.6 kB)\n",
      "Requirement already satisfied: packaging>=20.4 in c:\\users\\aniru\\anaconda3\\lib\\site-packages (from redis) (20.9)\n",
      "Requirement already satisfied: wrapt<2,>=1.10 in c:\\users\\aniru\\anaconda3\\lib\\site-packages (from deprecated>=1.2.3->redis) (1.12.1)\n",
      "Requirement already satisfied: pyparsing>=2.0.2 in c:\\users\\aniru\\anaconda3\\lib\\site-packages (from packaging>=20.4->redis) (2.4.7)\n",
      "Installing collected packages: deprecated, async-timeout, redis\n",
      "Successfully installed async-timeout-4.0.2 deprecated-1.2.13 redis-4.3.4\n"
     ]
    }
   ],
   "source": [
    "#9. Install the Redis server and the Python redis library (pip install redis) on your computer. \n",
    "#Create a Redis hash called test with the fields count (1) and name ('Fester Bestertester').\n",
    "#Print all the fields for test.\n",
    "\n",
    "!pip install redis"
   ]
  },
  {
   "cell_type": "code",
   "execution_count": null,
   "id": "a10cbec2",
   "metadata": {},
   "outputs": [],
   "source": [
    "import redis\n",
    "\n",
    "hash = redis.Redis()\n",
    "hash.mset({'Field count':1,'Name':'Fester Bestertester'})\n"
   ]
  },
  {
   "cell_type": "code",
   "execution_count": null,
   "id": "b4ae914d",
   "metadata": {},
   "outputs": [],
   "source": [
    "#10. Increment the count field of test and print it.\n",
    "v = hash.get('Field count')\n",
    "\n",
    "v = v+1\n",
    "\n",
    "hash.mset({'Field count':v,'Name':'Fester Bestertester'})"
   ]
  },
  {
   "cell_type": "markdown",
   "id": "ccad5b23",
   "metadata": {},
   "source": [
    "print(hash.get('Field count'))"
   ]
  }
 ],
 "metadata": {
  "kernelspec": {
   "display_name": "Python 3",
   "language": "python",
   "name": "python3"
  },
  "language_info": {
   "codemirror_mode": {
    "name": "ipython",
    "version": 3
   },
   "file_extension": ".py",
   "mimetype": "text/x-python",
   "name": "python",
   "nbconvert_exporter": "python",
   "pygments_lexer": "ipython3",
   "version": "3.8.8"
  }
 },
 "nbformat": 4,
 "nbformat_minor": 5
}
