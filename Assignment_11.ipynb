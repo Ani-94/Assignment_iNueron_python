{
 "cells": [
  {
   "cell_type": "code",
   "execution_count": 1,
   "id": "65fedb94",
   "metadata": {},
   "outputs": [],
   "source": [
    "1. Create an assert statement that throws an AssertionError if the variable spam is a negative integer.\n",
    "Answer:\n",
    "assert spam>=0\n",
    "\n",
    "2. Write an assert statement that triggers an AssertionError if the variables eggs and bacon contain strings that are the same as each other, even if their cases are different (that is, 'hello' and 'hello' are considered the same, and 'goodbye' and 'GOODbye' are also considered the same).\n",
    "Answer:\n",
    "assert eggs.lower()!= bacon.lower()\n",
    "\n",
    "3. Create an assert statement that throws an AssertionError every time.\n",
    "Answer:\n",
    "raise  AssertionError as ae:\n",
    "\tlogging.INFO(ae)\n",
    "\n",
    "4. What are the two lines that must be present in your software in order to call logging.debug()?\n",
    "Answer:\n",
    "import logging\n",
    "logging.basicConfig(level=logging.DEBUG, format=’%(asctime)s-%(levelname)s-%(message)’)\n",
    "\n",
    "5. What are the two lines that your program must have in order to have logging.debug() send a logging message to a file named programLog.txt?\n",
    "Answer:\n",
    "import logging\n",
    "logging.basicConfig(filename =’programLog.txt ‘ ,level=logging.DEBUG, format=’%(asctime)s-%(levelname)s-%(message)’)\n",
    "\n",
    "6. What are the five levels of logging?\n",
    "Answer:\n",
    "Debug,\n",
    "Info\n",
    "Warning\n",
    "error\n",
    "Criticals\n",
    "\n",
    "7. What line of code would you add to your software to disable all logging messages?\n",
    "Answer:\n",
    "logging.disable.(logging.CRITICAL)\n",
    "\n",
    "8.Why is using logging messages better than using print() to display the same message?\n",
    "Answer:\n",
    "Logging will input the data into an external file in any desired location and stores that information which can be viewed in the future while print shows the output of the statement in the console\n",
    "\n",
    "9. What are the differences between the Step Over, Step In, and Step Out buttons in the debugger?\n",
    "Answer:\n",
    "Step Over: On execution of function during debugging the code will executed and the result will captured but no debugging will happen\n",
    "Step In: On execution of function during debugging the code will executed and  debugging of the function will happen the result will captured\n",
    "Step Out: If the execution is paused then by clicking step out the rest of the function will be executed\n",
    "\n",
    "10.After you click Continue, when will the debugger stop?\n",
    "Answer:\n",
    "Until a breakpoint is encountered\n",
    "\n",
    "11. What is the concept of a breakpoint?\n",
    "Answer:\n",
    "breakpoint() is an alias for python pdb, which helps in debugging our code\n"
   ]
  }
 ],
 "metadata": {
  "kernelspec": {
   "display_name": "Python 3",
   "language": "python",
   "name": "python3"
  },
  "language_info": {
   "codemirror_mode": {
    "name": "ipython",
    "version": 3
   },
   "file_extension": ".py",
   "mimetype": "text/x-python",
   "name": "python",
   "nbconvert_exporter": "python",
   "pygments_lexer": "ipython3",
   "version": "3.8.8"
  }
 },
 "nbformat": 4,
 "nbformat_minor": 5
}
