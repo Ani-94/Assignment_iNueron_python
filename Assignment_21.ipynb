{
 "cells": [
  {
   "cell_type": "code",
   "execution_count": 5,
   "id": "0b0a8015",
   "metadata": {},
   "outputs": [],
   "source": [
    "#1. Add the current date to the text file today.txt as a string.\n",
    "\n",
    "import os\n",
    "\n",
    "from datetime import date\n",
    "\n",
    "to_d = date.today()\n",
    "dat = to_d.strftime('%d/%m/%y')\n",
    "with open('today.txt','w') as f:\n",
    "    f.write(dat)"
   ]
  },
  {
   "cell_type": "code",
   "execution_count": 7,
   "id": "260dfe59",
   "metadata": {},
   "outputs": [
    {
     "name": "stdout",
     "output_type": "stream",
     "text": [
      "30/06/22\n"
     ]
    }
   ],
   "source": [
    "#2. Read the text file today.txt into the string today_string\n",
    "\n",
    "with open('today.txt','r') as f:\n",
    "    today_string = f.read()\n",
    "print(today_string)"
   ]
  },
  {
   "cell_type": "code",
   "execution_count": 13,
   "id": "3970a98c",
   "metadata": {},
   "outputs": [
    {
     "name": "stdout",
     "output_type": "stream",
     "text": [
      "['30', '06', '22']\n"
     ]
    }
   ],
   "source": [
    "#3. Parse the date from today_string.\n",
    "import parser\n",
    "\n",
    "s = today_string.split('/')\n",
    "print(s)"
   ]
  },
  {
   "cell_type": "code",
   "execution_count": 18,
   "id": "2dbba484",
   "metadata": {},
   "outputs": [
    {
     "name": "stdout",
     "output_type": "stream",
     "text": [
      "['.anaconda', '.bash_history', '.bash_profile', '.cfx', '.comsol', '.conda', '.condarc', '.continuum', '.cufflinks', '.cxlayout.ini', '.dotnet', '.flrecent', '.fluentconf', '.gitconfig', '.InstallAnywhere', '.ipynb_checkpoints', '.ipython', '.jupyter', '.matplotlib', '.ms-ad', '.spyder-py3', '.templateengine', '.vscode', '1-EDA And Feature Engineering.ipynb', '19.3.1 mongoDB introduction.ipynb', '19.3.2 pyMongo.ipynb', '19.3.3 Atlas.ipynb', '2- BlackFriday EDA And Feature Engineering.ipynb', '2Dlinear.ipynb', '3D Objects', 'Anaconda3', 'AppData', 'Application Data', 'Assignment 1.ipynb', 'Assignment 2.ipynb', 'Assignment 3.ipynb', 'Assignment_1.ipynb', 'Assignment_10.ipynb', 'Assignment_11.ipynb', 'Assignment_12.ipynb', 'Assignment_13.ipynb', 'Assignment_14.ipynb', 'Assignment_15.ipynb', 'Assignment_16.ipynb', 'Assignment_17.ipynb', 'Assignment_18.ipynb', 'Assignment_19.ipynb', 'Assignment_2.ipynb', 'Assignment_20.ipynb', 'Assignment_21.ipynb', 'Assignment_24.ipynb', 'Assignment_4.ipynb', 'Assignment_5.ipynb', 'Assignment_6.ipynb', 'Assignment_7.ipynb', 'Assignment_8.ipynb', 'Assignment_9.ipynb', 'books.csv', 'books.db', 'car (1).names', 'car.data', 'Carbon.log', 'carbon_nanotubes (1).txt', 'carbon_nanotubes (2).csv', 'carbon_nanotubes(1).txt', 'carbon_nanotubes.csv', 'carbon_nanotubes_1.csv', 'carbon_nantubes.ipynb', 'carb_nano.ipynb', 'car_data.ipynb', 'CFD_assignment_1.ipynb', 'chromedriver.exe', 'cleanup-fluent-Anirudh-7944.bat', 'Contacts', 'Cookies', 'Customers.csv', 'c_n.csv', 'C_n.ipynb', 'df.csv', 'df.data', 'Documents', 'Downloads', 'Exercise.ipynb', 'exercise.txt', 'Exercise_2.ipynb', 'Favorites', 'flask', 'glass (1).data', 'glass.data', 'hi.txt', 'Hierarchial .ipynb', 'Hierarichal Means.ipynb', 'Hypothesis_Testing.ipynb', 'iNeuron_scrapping', 'IntelGraphicsProfiles', 'i_neuron_scrappin_data_science.ipynb', 'i_nueron_scraping.ipynb', 'i_n_s', 'j_csv', 'K MEans Clustering.ipynb', 'k means practicals.ipynb', 'Links', 'Local Settings', 'logging (1).ipynb', 'main.py', 'ML_project', 'mongodb class 1.ipynb', 'mongodb.ipynb', 'Music', 'My Documents', 'nba.log', 'NBA_player_DATA.ipynb', 'NetHood', 'New folder', 'New folder (2)', 'NTUSER.DAT', 'ntuser.dat.LOG1', 'ntuser.dat.LOG2', 'NTUSER.DAT{0fc912f3-a6c9-11ec-b782-cd1aa11ef484}.TM.blf', 'NTUSER.DAT{0fc912f3-a6c9-11ec-b782-cd1aa11ef484}.TMContainer00000000000000000001.regtrans-ms', 'NTUSER.DAT{0fc912f3-a6c9-11ec-b782-cd1aa11ef484}.TMContainer00000000000000000002.regtrans-ms', 'ntuser.ini', 'one.txt', 'OneDrive', 'oops 29th .ipynb', 'oops class 1.ipynb', 'pandas day 2.ipynb', 'pandas.ipynb', 'Postman', 'practice problem python basic.ipynb', 'PrintHood', 'Project', 'PycharmProjects', 'pythonProject', 'pythonProject1', 'Recent', 'review scrapper.ipynb', 'Saved Games', 'scrap.log', 'Scrapping.ipynb', 'seaborn-data', 'Searches', 'SendTo', 'Shock.ipynb', 'Silhoutte Scoring.ipynb', 'source', 'SQL basic .ipynb', 'sql day 2 .ipynb', 'Start Menu', 'step1.ipynb', 'task', 'Templates', 'test.csv', 'test.db', 'test.log', 'test.txt', 'test1.py', 'test2.log', 'test2.txt', 'test3.log', 'today.txt', 'Tracing', 'train.csv', 'Untitled.ipynb', 'Untitled1.ipynb', 'Untitled10.ipynb', 'Untitled11.ipynb', 'Untitled12.ipynb', 'Untitled13.ipynb', 'Untitled14.ipynb', 'Untitled15.ipynb', 'Untitled16.ipynb', 'Untitled17.ipynb', 'Untitled18.ipynb', 'Untitled19.ipynb', 'Untitled2.ipynb', 'Untitled20.ipynb', 'Untitled21.ipynb', 'Untitled22.ipynb', 'Untitled23.ipynb', 'Untitled24.ipynb', 'Untitled25.ipynb', 'Untitled26.ipynb', 'Untitled27.ipynb', 'Untitled28.ipynb', 'Untitled29.ipynb', 'Untitled3.ipynb', 'Untitled30.ipynb', 'Untitled31.ipynb', 'Untitled32.ipynb', 'Untitled33.ipynb', 'Untitled34.ipynb', 'Untitled35.ipynb', 'Untitled36.ipynb', 'Untitled37.ipynb', 'Untitled38.ipynb', 'Untitled39.ipynb', 'Untitled4.ipynb', 'Untitled40.ipynb', 'Untitled41.ipynb', 'Untitled42.ipynb', 'Untitled43.ipynb', 'Untitled44.ipynb', 'Untitled45.ipynb', 'Untitled46.ipynb', 'Untitled47.ipynb', 'Untitled48.ipynb', 'Untitled5.ipynb', 'Untitled6.ipynb', 'Untitled7.ipynb', 'Untitled8.ipynb', 'Untitled9.ipynb', 'Videos', 'Waves_weehk_.ipynb', '__pycache__']\n"
     ]
    }
   ],
   "source": [
    "#4. List the files in your current directory\n",
    "\n",
    "li_di = os.listdir('C:\\\\Users\\\\aniru')\n",
    "print(li_di)"
   ]
  },
  {
   "cell_type": "code",
   "execution_count": 19,
   "id": "72915aea",
   "metadata": {},
   "outputs": [
    {
     "name": "stdout",
     "output_type": "stream",
     "text": [
      "['$Recycle.Bin', '$WinREAgent', 'Apps', 'bootTel.dat', 'Config.Msi', 'DELL', 'dell.sdr', 'Documents and Settings', 'Drivers', 'DumpStack.log', 'DumpStack.log.tmp', 'FIOD.manifest', 'hiberfil.sys', 'Intel', 'OneDriveTemp', 'pagefile.sys', 'PerfLogs', 'Program Files', 'Program Files (x86)', 'ProgramData', 'Recovery', 'SOLIDWORKS Data', 'SolidWorks_Flexnet_Server', 'swapfile.sys', 'System Volume Information', 'temp', 'Users', 'Windows']\n"
     ]
    }
   ],
   "source": [
    "#5. Create a list of all of the files in your parent directory (minimum five files should be available).\n",
    "\n",
    "di = os.listdir('C:\\\\')\n",
    "print(di)"
   ]
  },
  {
   "cell_type": "code",
   "execution_count": 26,
   "id": "c7f92573",
   "metadata": {},
   "outputs": [
    {
     "name": "stdout",
     "output_type": "stream",
     "text": [
      "done\n"
     ]
    }
   ],
   "source": [
    "#6. Use multiprocessing to create three separate processes. \n",
    "#Make each one wait a random number of seconds between one and five, print the current time, and then exit.\n",
    "\n",
    "import random\n",
    "import multiprocessing\n",
    "import time\n",
    "\n",
    "def pro1(n):\n",
    "    t = time.time()\n",
    "    print(t)\n",
    "\n",
    "def pro2(n):\n",
    "    t = time.time()\n",
    "    print(t)\n",
    "\n",
    "def pro3(n):\n",
    "    t = time.time()\n",
    "    print(t)\n",
    "\n",
    "if __name__ == '__main__':\n",
    "    n = random.randrange(1,5)\n",
    "    p1 = multiprocessing.Process(target = pro1,args = ('n',))\n",
    "    p2 = multiprocessing.Process(target = pro2,args = ('n',))\n",
    "    p3 = multiprocessing.Process(target = pro3,args = ('n',))\n",
    "    \n",
    "    p1.start()\n",
    "    p2.start()\n",
    "    p3.start()\n",
    "    \n",
    "    p1.join()\n",
    "    p2.join()\n",
    "    p3.join()\n",
    "    \n",
    "    print('done')"
   ]
  },
  {
   "cell_type": "code",
   "execution_count": 27,
   "id": "a862b71e",
   "metadata": {},
   "outputs": [],
   "source": [
    "#7. Create a date object of your day of birth.\n",
    "import datetime\n",
    "birth_d = datetime.datetime(1994,7,28)\n"
   ]
  },
  {
   "cell_type": "code",
   "execution_count": 30,
   "id": "867dc123",
   "metadata": {},
   "outputs": [
    {
     "name": "stdout",
     "output_type": "stream",
     "text": [
      "Thursday\n"
     ]
    }
   ],
   "source": [
    "#8. What day of the week was your day of birth?\n",
    "day = birth_d.strftime(\"%A\")\n",
    "print(day)"
   ]
  },
  {
   "cell_type": "code",
   "execution_count": 32,
   "id": "e56f2680",
   "metadata": {},
   "outputs": [
    {
     "name": "stdout",
     "output_type": "stream",
     "text": [
      "2021-12-13 00:00:00\n"
     ]
    }
   ],
   "source": [
    "#9. When will you be (or when were you) 10,000 days old?\n",
    "n_d = 10000\n",
    "\n",
    "td = datetime.timedelta(n_d)\n",
    "\n",
    "new_date = birth_d+td\n",
    "\n",
    "print(new_date)"
   ]
  }
 ],
 "metadata": {
  "kernelspec": {
   "display_name": "Python 3",
   "language": "python",
   "name": "python3"
  },
  "language_info": {
   "codemirror_mode": {
    "name": "ipython",
    "version": 3
   },
   "file_extension": ".py",
   "mimetype": "text/x-python",
   "name": "python",
   "nbconvert_exporter": "python",
   "pygments_lexer": "ipython3",
   "version": "3.8.8"
  }
 },
 "nbformat": 4,
 "nbformat_minor": 5
}
